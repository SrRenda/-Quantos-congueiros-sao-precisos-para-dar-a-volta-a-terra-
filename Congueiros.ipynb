{
 "cells": [
  {
   "cell_type": "code",
   "execution_count": 32,
   "id": "e5b35db8-9a72-4d31-959d-701365ec1539",
   "metadata": {},
   "outputs": [],
   "source": [
    "# Quantos congueiros são precisos para dar a volta a terra?\n",
    "# Insta page --> https://www.instagram.com/projeto.conga/"
   ]
  },
  {
   "cell_type": "code",
   "execution_count": 33,
   "id": "257e7235-e94b-41aa-bc48-c0d86b017733",
   "metadata": {},
   "outputs": [],
   "source": [
    "#Variaveis\n",
    "vCongueiro = 1 #Metros\n",
    "vCircunferencia_terra = 40075.017 #Km\n",
    "vQnt_Congueiros = 1156177"
   ]
  },
  {
   "cell_type": "code",
   "execution_count": 34,
   "id": "324913b6-56fd-4204-bae9-76a90b5534a8",
   "metadata": {},
   "outputs": [],
   "source": [
    "#Funções\n",
    "def M_toKM(m):\n",
    "    km = m/1000\n",
    "    return km"
   ]
  },
  {
   "cell_type": "code",
   "execution_count": 35,
   "id": "184c7010-cc2f-4e03-9fab-dc3a2f45fbcf",
   "metadata": {},
   "outputs": [],
   "source": [
    "#Execução\n",
    "Qnt_Congueiros_Nesc = vCircunferencia_terra/ M_toKM(vCongueiro)\n",
    "Progresso = vQnt_Congueiros/ Qnt_Congueiros_Nesc"
   ]
  },
  {
   "cell_type": "code",
   "execution_count": 36,
   "id": "3ce06642-ccb9-43a4-8842-600720caa783",
   "metadata": {},
   "outputs": [
    {
     "name": "stdout",
     "output_type": "stream",
     "text": [
      "Quantidade de Congueiros para dar a volta --> 40,075,017.0\n",
      "Progresso --> 2.8850318%\n"
     ]
    }
   ],
   "source": [
    "#Mostrando Resultados\n",
    "print(\"Quantidade de Congueiros para dar a volta --> \"+'{:,}'.format(Qnt_Congueiros_Nesc))\n",
    "print(\"Progresso --> \"+'{:.7%}'.format(Progresso))"
   ]
  },
  {
   "cell_type": "code",
   "execution_count": null,
   "id": "d3e188f2-80c7-4833-98c8-49e59f3c4aed",
   "metadata": {},
   "outputs": [],
   "source": []
  }
 ],
 "metadata": {
  "kernelspec": {
   "display_name": "Python 3 (ipykernel)",
   "language": "python",
   "name": "python3"
  },
  "language_info": {
   "codemirror_mode": {
    "name": "ipython",
    "version": 3
   },
   "file_extension": ".py",
   "mimetype": "text/x-python",
   "name": "python",
   "nbconvert_exporter": "python",
   "pygments_lexer": "ipython3",
   "version": "3.10.12"
  }
 },
 "nbformat": 4,
 "nbformat_minor": 5
}
